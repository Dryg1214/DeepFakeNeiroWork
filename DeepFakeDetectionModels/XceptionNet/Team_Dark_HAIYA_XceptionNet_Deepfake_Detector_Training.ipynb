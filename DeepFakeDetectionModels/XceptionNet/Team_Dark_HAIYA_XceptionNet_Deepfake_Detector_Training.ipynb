{
  "nbformat": 4,
  "nbformat_minor": 0,
  "metadata": {
    "colab": {
      "provenance": [],
      "toc_visible": true
    },
    "kernelspec": {
      "name": "python3",
      "display_name": "Python 3"
    },
    "accelerator": "GPU"
  },
  "cells": [
    {
      "cell_type": "markdown",
      "metadata": {
        "id": "SuvT4yPzSOb5"
      },
      "source": [
        "# XceptionNet Deepfake Detector\n",
        "FIT3183 2020 S2 Assignment\n",
        "<br/>By Team Dark.HAIYA\n",
        "<br/>Team members:\n",
        "- Kee Pei Jiin\n",
        "- Chin Wen Yuan\n",
        "\n",
        "In this Colab, we train a deepfake detector which uses the XceptionNet CNN architecture. We mainly refer to [this Github](https://github.com/otenim/Xception-with-Your-Own-Dataset) to create the detector.\n"
      ]
    },
    {
      "cell_type": "markdown",
      "metadata": {
        "id": "Jodb07LuomaC"
      },
      "source": [
        "# Download training datasets\n",
        "The training dataset has 1600 images, which is made up of 800 cropped CelebA images and 800 fake faces downloaded from [here](https://github.com/cc-hpc-itwm/DeepFakeDetection/blob/master/Experiments_CelebA/dataset_celebA.7z)."
      ]
    },
    {
      "cell_type": "code",
      "metadata": {
        "id": "rjzTVl8hoAlk",
        "outputId": "7b4f1f94-ae92-417d-88a5-1bf63be67a9c",
        "colab": {
          "base_uri": "https://localhost:8080/"
        }
      },
      "source": [
        "# Download the training dataset\n",
        "import gdown\n",
        "!gdown https://drive.google.com/uc?id=1tZ1pQHuz94TCjzo9mdKWuKlRgOnHfog9"
      ],
      "execution_count": null,
      "outputs": [
        {
          "output_type": "stream",
          "text": [
            "Downloading...\n",
            "From: https://drive.google.com/uc?id=1tZ1pQHuz94TCjzo9mdKWuKlRgOnHfog9\n",
            "To: /content/training_images.zip\n",
            "6.00MB [00:00, 11.6MB/s]\n"
          ],
          "name": "stdout"
        }
      ]
    },
    {
      "cell_type": "code",
      "metadata": {
        "id": "49Tk9GgVotrZ"
      },
      "source": [
        "!unzip -q /content/training_images.zip\n",
        "!rm -r /content/training_images.zip"
      ],
      "execution_count": null,
      "outputs": []
    },
    {
      "cell_type": "code",
      "metadata": {
        "id": "U3R94uzGo9lJ"
      },
      "source": [
        "!mv /content/content/training_images /content/"
      ],
      "execution_count": null,
      "outputs": []
    },
    {
      "cell_type": "code",
      "metadata": {
        "id": "jqXmJoHvpB5E"
      },
      "source": [
        "!rm -r /content/content"
      ],
      "execution_count": null,
      "outputs": []
    },
    {
      "cell_type": "markdown",
      "metadata": {
        "id": "IRChFraXo1R3"
      },
      "source": [
        "# Import Libraries & Variables Declaration"
      ]
    },
    {
      "cell_type": "code",
      "metadata": {
        "id": "3_6GD947pGEk"
      },
      "source": [
        "import math\n",
        "import os\n",
        "import matplotlib\n",
        "import imghdr\n",
        "import pickle as pkl\n",
        "import numpy as np\n",
        "import matplotlib.pyplot as plt\n",
        "from keras.applications.xception import Xception, preprocess_input\n",
        "from keras.optimizers import Adam\n",
        "from keras.preprocessing import image\n",
        "from keras.losses import categorical_crossentropy\n",
        "from keras.layers import Dense, GlobalAveragePooling2D\n",
        "from keras.models import Model\n",
        "from keras.utils import to_categorical\n",
        "from keras.callbacks import ModelCheckpoint\n",
        "from keras.models import load_model"
      ],
      "execution_count": null,
      "outputs": []
    },
    {
      "cell_type": "code",
      "metadata": {
        "id": "Oole7Pa9pIUc"
      },
      "source": [
        "matplotlib.use('Agg')\n",
        "dataset_root = \"/content/training_images/\"\n",
        "result_root = \"results/\"\n",
        "classes = [\"real\", \"fake\"]\n",
        "num_classes = 2\n",
        "\n",
        "epochs_pre = 20\n",
        "epochs_fine = 5\n",
        "batch_size_pre = 32\n",
        "batch_size_fine = 16\n",
        "lr_pre = 1e-3\n",
        "lr_fine = 1e-4\n",
        "snapshot_period_pre = 5\n",
        "snapshot_period_fine = 1\n",
        "split = 0.7"
      ],
      "execution_count": null,
      "outputs": []
    },
    {
      "cell_type": "markdown",
      "metadata": {
        "id": "GNM3mO9spQC6"
      },
      "source": [
        "# Load training data\n",
        "We load the training images and create their one-hot-categorical label.\n",
        "\n",
        "Then, we further split the training datasets into smaller datasets for training & validation purposes.\n",
        "  - 70% will be used for training\n",
        "  - 30% will be used for validation"
      ]
    },
    {
      "cell_type": "code",
      "metadata": {
        "id": "m_XHWryipNEi"
      },
      "source": [
        "# make input_paths and labels\n",
        "input_paths, labels = [], []\n",
        "for class_name in os.listdir(dataset_root):\n",
        "    class_root = os.path.join(dataset_root, class_name)\n",
        "    class_id = classes.index(class_name)\n",
        "    for path in os.listdir(class_root):\n",
        "        path = os.path.join(class_root, path)\n",
        "        if imghdr.what(path) is None:\n",
        "            # this is not an image file\n",
        "            continue\n",
        "        input_paths.append(path)\n",
        "        labels.append(class_id)\n",
        "\n",
        "# convert to one-hot-vector format\n",
        "labels = to_categorical(labels, num_classes=num_classes)\n",
        "\n",
        "# convert to numpy array\n",
        "input_paths = np.array(input_paths)"
      ],
      "execution_count": null,
      "outputs": []
    },
    {
      "cell_type": "code",
      "metadata": {
        "id": "PiRKJPtfpVUr",
        "outputId": "9669ba60-d38f-4643-c20c-30910f9243b6",
        "colab": {
          "base_uri": "https://localhost:8080/"
        }
      },
      "source": [
        "print(len(labels), len(input_paths))"
      ],
      "execution_count": null,
      "outputs": [
        {
          "output_type": "stream",
          "text": [
            "1600 1600\n"
          ],
          "name": "stdout"
        }
      ]
    },
    {
      "cell_type": "code",
      "metadata": {
        "id": "aeInjv68pYCi",
        "outputId": "1eb1a179-9d0d-4ac5-bdb8-29747cf82188",
        "colab": {
          "base_uri": "https://localhost:8080/"
        }
      },
      "source": [
        "# split dataset for training and validation purposes\n",
        "border = int(len(input_paths) * split)\n",
        "train_labels = labels[:border]\n",
        "val_labels = labels[border:]\n",
        "train_input_paths = input_paths[:border]\n",
        "val_input_paths = input_paths[border:]\n",
        "print(\"Training on %d images and labels\" % (len(train_input_paths)))\n",
        "print(\"Validation on %d images and labels\" % (len(val_input_paths)))\n",
        "\n",
        "if os.path.exists(result_root) is False:\n",
        "    os.makedirs(result_root)"
      ],
      "execution_count": null,
      "outputs": [
        {
          "output_type": "stream",
          "text": [
            "Training on 1120 images and labels\n",
            "Validation on 480 images and labels\n"
          ],
          "name": "stdout"
        }
      ]
    },
    {
      "cell_type": "markdown",
      "metadata": {
        "id": "GTSWYZ2Zp9Rj"
      },
      "source": [
        "# Model Training using Transfer Learning Technique\n",
        "\n",
        "Since out training dataset is quite small, we apply [transfer learning](https://machinelearningmastery.com/transfer-learning-for-deep-learning/#:~:text=Transfer%20learning%20is%20a%20machine,model%20on%20a%20second%20task.) technique in creating the detector.\n",
        "\n",
        "We use the Keras pre-trained XceptionNet model as our base model. This pre-trained model was trained on Imagenet datasets and is able to classify images into around 1000 different classes. We fine-tune this model so that it recognises real & fake human faces as well."
      ]
    },
    {
      "cell_type": "code",
      "metadata": {
        "id": "fh-jPlY4pwOe"
      },
      "source": [
        "def generate_from_paths_and_labels(input_paths, labels, batch_size, input_size=(128, 128)):\n",
        "    num_samples = len(input_paths)\n",
        "    while 1:\n",
        "        perm = np.random.permutation(num_samples)\n",
        "        input_paths = input_paths[perm]\n",
        "        labels = labels[perm]\n",
        "        for i in range(0, num_samples, batch_size):\n",
        "            inputs = list(map(\n",
        "                lambda x: image.load_img(x, target_size=input_size),\n",
        "                input_paths[i:i+batch_size]\n",
        "            ))\n",
        "            inputs = np.array(list(map(\n",
        "                lambda x: image.img_to_array(x),\n",
        "                inputs\n",
        "            )))\n",
        "            inputs = preprocess_input(inputs)\n",
        "            yield (inputs, labels[i:i+batch_size])"
      ],
      "execution_count": null,
      "outputs": []
    },
    {
      "cell_type": "code",
      "metadata": {
        "id": "VEIfyJILqAfR",
        "outputId": "ee907564-4a48-4691-894a-cc93a54921e5",
        "colab": {
          "base_uri": "https://localhost:8080/"
        }
      },
      "source": [
        "# base model used is the pre-trained XceptionNet model on imageNet dataset\n",
        "# do not include imageNet classfier at the top\n",
        "base_model = Xception(include_top=False,\n",
        "                    weights='imagenet',\n",
        "                    input_shape=(128, 128, 3))"
      ],
      "execution_count": null,
      "outputs": [
        {
          "output_type": "stream",
          "text": [
            "Downloading data from https://storage.googleapis.com/tensorflow/keras-applications/xception/xception_weights_tf_dim_ordering_tf_kernels_notop.h5\n",
            "83689472/83683744 [==============================] - 1s 0us/step\n"
          ],
          "name": "stdout"
        }
      ]
    },
    {
      "cell_type": "code",
      "metadata": {
        "id": "jRztALS0qWVh"
      },
      "source": [
        "# create a custom top classifier\n",
        "x = base_model.output\n",
        "x = GlobalAveragePooling2D()(x)\n",
        "x = Dense(1024, activation='relu')(x)\n",
        "predictions = Dense(num_classes, activation='softmax')(x)\n",
        "model = Model(inputs=base_model.inputs, outputs=predictions)"
      ],
      "execution_count": null,
      "outputs": []
    },
    {
      "cell_type": "code",
      "metadata": {
        "id": "u0YLn1u2qZDS",
        "outputId": "fd008eb1-8569-4b94-8604-1aeedec02b5d",
        "colab": {
          "base_uri": "https://localhost:8080/"
        }
      },
      "source": [
        "# train the top classifier layer\n",
        "\n",
        "# freeze the base_model body layers\n",
        "for layer in base_model.layers:\n",
        "    layer.trainable = False\n",
        "\n",
        "# compile model\n",
        "model.compile(loss=categorical_crossentropy,\n",
        "              optimizer=Adam(lr=lr_pre),\n",
        "              metrics=['accuracy']\n",
        ")\n",
        "\n",
        "# train\n",
        "hist_pre = model.fit_generator(\n",
        "    generator=generate_from_paths_and_labels(input_paths=train_input_paths,\n",
        "                                              labels=train_labels,\n",
        "                                              batch_size=batch_size_pre),\n",
        "\n",
        "    steps_per_epoch=math.ceil(len(train_input_paths) / batch_size_pre),\n",
        "\n",
        "    epochs=epochs_pre,\n",
        "\n",
        "    validation_data=generate_from_paths_and_labels(input_paths=val_input_paths,\n",
        "                                                  labels=val_labels,\n",
        "                                                  batch_size=batch_size_pre),\n",
        "\n",
        "    validation_steps=math.ceil(len(val_input_paths) / batch_size_pre),\n",
        "\n",
        "    verbose=1,\n",
        "\n",
        "    callbacks=[ModelCheckpoint(\n",
        "                filepath=os.path.join(result_root,\n",
        "                                'model_pre_ep{epoch}_valloss{val_loss:.3f}.h5'),\n",
        "                period=snapshot_period_pre,),\n",
        "    ],\n",
        ")\n",
        "\n",
        "model.save(os.path.join(result_root, 'model_pre_final.h5'))"
      ],
      "execution_count": null,
      "outputs": [
        {
          "output_type": "stream",
          "text": [
            "WARNING:tensorflow:`period` argument is deprecated. Please use `save_freq` to specify the frequency in number of batches seen.\n",
            "WARNING:tensorflow:From <ipython-input-13-6bcab8ec3b73>:34: Model.fit_generator (from tensorflow.python.keras.engine.training) is deprecated and will be removed in a future version.\n",
            "Instructions for updating:\n",
            "Please use Model.fit, which supports generators.\n",
            "Epoch 1/20\n",
            "35/35 [==============================] - 3s 81ms/step - loss: 0.5371 - accuracy: 0.7866 - val_loss: 0.4397 - val_accuracy: 0.7979\n",
            "Epoch 2/20\n",
            "35/35 [==============================] - 2s 58ms/step - loss: 0.1958 - accuracy: 0.9223 - val_loss: 0.9348 - val_accuracy: 0.6313\n",
            "Epoch 3/20\n",
            "35/35 [==============================] - 2s 59ms/step - loss: 0.1315 - accuracy: 0.9589 - val_loss: 0.5814 - val_accuracy: 0.7708\n",
            "Epoch 4/20\n",
            "35/35 [==============================] - 2s 59ms/step - loss: 0.0885 - accuracy: 0.9732 - val_loss: 0.4482 - val_accuracy: 0.8479\n",
            "Epoch 5/20\n",
            "35/35 [==============================] - 2s 70ms/step - loss: 0.0494 - accuracy: 0.9920 - val_loss: 0.7976 - val_accuracy: 0.7083\n",
            "Epoch 6/20\n",
            "35/35 [==============================] - 2s 59ms/step - loss: 0.0279 - accuracy: 0.9955 - val_loss: 0.8425 - val_accuracy: 0.7312\n",
            "Epoch 7/20\n",
            "35/35 [==============================] - 2s 60ms/step - loss: 0.0212 - accuracy: 0.9973 - val_loss: 0.5734 - val_accuracy: 0.7896\n",
            "Epoch 8/20\n",
            "35/35 [==============================] - 2s 60ms/step - loss: 0.0115 - accuracy: 1.0000 - val_loss: 0.7227 - val_accuracy: 0.7979\n",
            "Epoch 9/20\n",
            "35/35 [==============================] - 2s 59ms/step - loss: 0.0088 - accuracy: 1.0000 - val_loss: 0.3421 - val_accuracy: 0.8771\n",
            "Epoch 10/20\n",
            "35/35 [==============================] - 2s 71ms/step - loss: 0.0060 - accuracy: 1.0000 - val_loss: 0.6096 - val_accuracy: 0.8271\n",
            "Epoch 11/20\n",
            "35/35 [==============================] - 2s 60ms/step - loss: 0.0042 - accuracy: 1.0000 - val_loss: 0.6778 - val_accuracy: 0.8250\n",
            "Epoch 12/20\n",
            "35/35 [==============================] - 2s 60ms/step - loss: 0.0033 - accuracy: 1.0000 - val_loss: 0.5258 - val_accuracy: 0.8438\n",
            "Epoch 13/20\n",
            "35/35 [==============================] - 2s 61ms/step - loss: 0.0027 - accuracy: 1.0000 - val_loss: 0.5562 - val_accuracy: 0.8375\n",
            "Epoch 14/20\n",
            "35/35 [==============================] - 2s 60ms/step - loss: 0.0022 - accuracy: 1.0000 - val_loss: 0.6297 - val_accuracy: 0.8354\n",
            "Epoch 15/20\n",
            "35/35 [==============================] - 2s 71ms/step - loss: 0.0018 - accuracy: 1.0000 - val_loss: 0.6160 - val_accuracy: 0.8417\n",
            "Epoch 16/20\n",
            "35/35 [==============================] - 2s 60ms/step - loss: 0.0017 - accuracy: 1.0000 - val_loss: 0.7030 - val_accuracy: 0.8208\n",
            "Epoch 17/20\n",
            "35/35 [==============================] - 2s 60ms/step - loss: 0.0014 - accuracy: 1.0000 - val_loss: 0.6069 - val_accuracy: 0.8458\n",
            "Epoch 18/20\n",
            "35/35 [==============================] - 2s 61ms/step - loss: 0.0013 - accuracy: 1.0000 - val_loss: 0.6534 - val_accuracy: 0.8479\n",
            "Epoch 19/20\n",
            "35/35 [==============================] - 2s 61ms/step - loss: 0.0011 - accuracy: 1.0000 - val_loss: 0.6025 - val_accuracy: 0.8438\n",
            "Epoch 20/20\n",
            "35/35 [==============================] - 3s 72ms/step - loss: 9.7297e-04 - accuracy: 1.0000 - val_loss: 0.7061 - val_accuracy: 0.8479\n"
          ],
          "name": "stdout"
        }
      ]
    },
    {
      "cell_type": "code",
      "metadata": {
        "id": "WXell_Xpqej-",
        "outputId": "240ff158-65f6-45b7-f2b0-8678984038c9",
        "colab": {
          "base_uri": "https://localhost:8080/"
        }
      },
      "source": [
        "# Fine-tune model\n",
        "# set all the layers to be trainable\n",
        "for layer in model.layers:\n",
        "    layer.trainable = True\n",
        "\n",
        "# recompile\n",
        "model.compile(optimizer=Adam(lr=lr_fine),\n",
        "              loss=categorical_crossentropy,\n",
        "              metrics=['accuracy'])\n",
        "\n",
        "# train\n",
        "hist_fine = model.fit_generator(\n",
        "    generator=generate_from_paths_and_labels(input_paths=train_input_paths,\n",
        "                                            labels=train_labels,\n",
        "                                            batch_size=batch_size_fine),\n",
        "\n",
        "  steps_per_epoch=math.ceil(len(train_input_paths) / batch_size_fine),\n",
        "\n",
        "  epochs=epochs_fine,\n",
        "\n",
        "  validation_data=generate_from_paths_and_labels(input_paths=val_input_paths,\n",
        "                                                labels=val_labels,\n",
        "                                                batch_size=batch_size_fine),\n",
        "\n",
        "  validation_steps=math.ceil(len(val_input_paths) / batch_size_fine),\n",
        "\n",
        "  verbose=1,\n",
        "\n",
        "  callbacks=[ModelCheckpoint(\n",
        "          filepath=os.path.join(result_root,\n",
        "                                'model_fine_ep{epoch}_valloss{val_loss:.3f}.h5'),\n",
        "          period=snapshot_period_fine,),\n",
        "  ],\n",
        ")\n",
        "\n",
        "model.save(os.path.join(result_root, 'model_fine_final.h5'))"
      ],
      "execution_count": null,
      "outputs": [
        {
          "output_type": "stream",
          "text": [
            "WARNING:tensorflow:`period` argument is deprecated. Please use `save_freq` to specify the frequency in number of batches seen.\n",
            "Epoch 1/5\n",
            " 2/70 [..............................] - ETA: 3s - loss: 1.6991 - accuracy: 0.6875WARNING:tensorflow:Callbacks method `on_train_batch_end` is slow compared to the batch time (batch time: 0.0358s vs `on_train_batch_end` time: 0.0657s). Check your callbacks.\n",
            "70/70 [==============================] - 9s 134ms/step - loss: 0.3202 - accuracy: 0.8902 - val_loss: 0.4120 - val_accuracy: 0.9062\n",
            "Epoch 2/5\n",
            "70/70 [==============================] - 9s 127ms/step - loss: 0.0499 - accuracy: 0.9893 - val_loss: 0.2530 - val_accuracy: 0.9125\n",
            "Epoch 3/5\n",
            "70/70 [==============================] - 9s 128ms/step - loss: 0.0127 - accuracy: 0.9973 - val_loss: 0.0970 - val_accuracy: 0.9667\n",
            "Epoch 4/5\n",
            "70/70 [==============================] - 9s 129ms/step - loss: 0.0254 - accuracy: 0.9946 - val_loss: 0.0623 - val_accuracy: 0.9875\n",
            "Epoch 5/5\n",
            "70/70 [==============================] - 9s 130ms/step - loss: 0.0608 - accuracy: 0.9821 - val_loss: 0.1580 - val_accuracy: 0.9500\n"
          ],
          "name": "stdout"
        }
      ]
    },
    {
      "cell_type": "code",
      "metadata": {
        "id": "fFVs_UtGqoSD",
        "outputId": "bea91a10-796c-4ff2-ff0a-6d7e306121c4",
        "colab": {
          "base_uri": "https://localhost:8080/"
        }
      },
      "source": [
        "# performance of the final fine-tuned model\n",
        "acc = hist_fine.history[\"accuracy\"][-1]\n",
        "val_acc = hist_fine.history[\"val_accuracy\"][-1]\n",
        "loss = hist_fine.history['loss'][-1]\n",
        "val_loss = hist_fine.history['val_loss'][-1]\n",
        "\n",
        "print(\"Accuracy on training data: %.2f\" %acc)\n",
        "print(\"Loss on training data: %.2f\" %loss)\n",
        "print(\"Accuracy on validation data: %.2f\" %val_acc)\n",
        "print(\"Loss on validation data: %.2f\" %val_loss)"
      ],
      "execution_count": null,
      "outputs": [
        {
          "output_type": "stream",
          "text": [
            "Accuracy on training data: 0.98\n",
            "Loss on training data: 0.06\n",
            "Accuracy on validation data: 0.95\n",
            "Loss on validation data: 0.16\n"
          ],
          "name": "stdout"
        }
      ]
    },
    {
      "cell_type": "code",
      "metadata": {
        "id": "aMiyb24HqrSZ",
        "outputId": "5e4dab81-18f1-4131-8633-55c9e851e469",
        "colab": {
          "base_uri": "https://localhost:8080/",
          "height": 34
        }
      },
      "source": [
        "# download the final model weight files\n",
        "from google.colab import files\n",
        "files.download(\"/content/results/model_fine_final.h5\")"
      ],
      "execution_count": null,
      "outputs": [
        {
          "output_type": "display_data",
          "data": {
            "application/javascript": [
              "\n",
              "    async function download(id, filename, size) {\n",
              "      if (!google.colab.kernel.accessAllowed) {\n",
              "        return;\n",
              "      }\n",
              "      const div = document.createElement('div');\n",
              "      const label = document.createElement('label');\n",
              "      label.textContent = `Downloading \"${filename}\": `;\n",
              "      div.appendChild(label);\n",
              "      const progress = document.createElement('progress');\n",
              "      progress.max = size;\n",
              "      div.appendChild(progress);\n",
              "      document.body.appendChild(div);\n",
              "\n",
              "      const buffers = [];\n",
              "      let downloaded = 0;\n",
              "\n",
              "      const channel = await google.colab.kernel.comms.open(id);\n",
              "      // Send a message to notify the kernel that we're ready.\n",
              "      channel.send({})\n",
              "\n",
              "      for await (const message of channel.messages) {\n",
              "        // Send a message to notify the kernel that we're ready.\n",
              "        channel.send({})\n",
              "        if (message.buffers) {\n",
              "          for (const buffer of message.buffers) {\n",
              "            buffers.push(buffer);\n",
              "            downloaded += buffer.byteLength;\n",
              "            progress.value = downloaded;\n",
              "          }\n",
              "        }\n",
              "      }\n",
              "      const blob = new Blob(buffers, {type: 'application/binary'});\n",
              "      const a = document.createElement('a');\n",
              "      a.href = window.URL.createObjectURL(blob);\n",
              "      a.download = filename;\n",
              "      div.appendChild(a);\n",
              "      a.click();\n",
              "      div.remove();\n",
              "    }\n",
              "  "
            ],
            "text/plain": [
              "<IPython.core.display.Javascript object>"
            ]
          },
          "metadata": {
            "tags": []
          }
        },
        {
          "output_type": "display_data",
          "data": {
            "application/javascript": [
              "download(\"download_225c1541-e0a1-44a2-8aa8-1056c9139ed2\", \"model_fine_final.h5\", 275863800)"
            ],
            "text/plain": [
              "<IPython.core.display.Javascript object>"
            ]
          },
          "metadata": {
            "tags": []
          }
        }
      ]
    },
    {
      "cell_type": "code",
      "metadata": {
        "id": "xKEKHQ1srxRK"
      },
      "source": [],
      "execution_count": null,
      "outputs": []
    }
  ]
}